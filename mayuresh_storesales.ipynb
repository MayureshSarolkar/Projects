{
  "nbformat": 4,
  "nbformat_minor": 0,
  "metadata": {
    "colab": {
      "provenance": []
    },
    "kernelspec": {
      "name": "python3",
      "display_name": "Python 3"
    },
    "language_info": {
      "name": "python"
    }
  },
  "cells": [
    {
      "cell_type": "code",
      "execution_count": 2,
      "metadata": {
        "colab": {
          "base_uri": "https://localhost:8080/"
        },
        "id": "x0c5N5K2Dx7V",
        "outputId": "f192e2db-4481-496a-b3fb-59f4f7b4b6ed"
      },
      "outputs": [
        {
          "output_type": "stream",
          "name": "stdout",
          "text": [
            "Mounted at /content/drive\n"
          ]
        }
      ],
      "source": [
        "from google.colab import drive\n",
        "drive.mount('/content/drive')"
      ]
    },
    {
      "cell_type": "code",
      "source": [
        "import pandas as pd\n",
        "import numpy as np"
      ],
      "metadata": {
        "id": "BORgzBK2D6EB"
      },
      "execution_count": 3,
      "outputs": []
    },
    {
      "cell_type": "code",
      "source": [
        "# load dataset\n",
        "df = pd.read_csv(\"/content/drive/MyDrive/project by sriraman sir/storesales.csv\")\n",
        "df"
      ],
      "metadata": {
        "id": "04PFWtsMEG4O"
      },
      "execution_count": null,
      "outputs": []
    },
    {
      "cell_type": "code",
      "source": [
        "class WindowFunctions:\n",
        "    def row_number(self, dataframe):\n",
        "        \"\"\"\n",
        "        Replicates the functionality of the ROW_NUMBER() function.\n",
        "        Assigns a unique row number to each row in the input dataframe.\n",
        "\n",
        "        Parameters:\n",
        "        dataframe (pandas.DataFrame): The input dataframe.\n",
        "\n",
        "        Returns:\n",
        "        pandas.DataFrame: A dataframe with a new column 'row_number' that contains the row numbers.\n",
        "        \"\"\"\n",
        "        dataframe['row_number'] = range(1, len(dataframe) + 1)\n",
        "        return dataframe\n",
        "\n",
        "    def rank(self, dataframe, column):\n",
        "        \"\"\"\n",
        "        Replicates the functionality of the RANK() function.\n",
        "        Assigns a rank to each row in the input dataframe based on the values in the specified column.\n",
        "\n",
        "        Parameters:\n",
        "        dataframe (pandas.DataFrame): The input dataframe.\n",
        "        column (str): The name of the column to use for ranking.\n",
        "\n",
        "        Returns:\n",
        "        pandas.DataFrame: A dataframe with a new column 'rank' that contains the ranks.\n",
        "        \"\"\"\n",
        "        dataframe['rank'] = dataframe[column].rank(method='min')\n",
        "        return dataframe\n",
        "\n",
        "    def dense_rank(self, dataframe, column):\n",
        "        \"\"\"\n",
        "        Replicates the functionality of the DENSE_RANK() function.\n",
        "        Assigns the same rank to rows with the same value in the specified column.\n",
        "\n",
        "        Parameters:\n",
        "        dataframe (pandas.DataFrame): The input dataframe.\n",
        "        column (str): The name of the column to use for ranking.\n",
        "\n",
        "        Returns:\n",
        "        pandas.DataFrame: A dataframe with a new column 'dense_rank' that contains the dense ranks.\n",
        "        \"\"\"\n",
        "        dataframe['dense_rank'] = dataframe[column].rank(method='min').astype(int)\n",
        "        return dataframe\n",
        "\n",
        "    def lag(self, dataframe, column, offset):\n",
        "        \"\"\"\n",
        "        Replicates the functionality of the LAG() function.\n",
        "        Returns a new dataframe with a new column that contains the values from the specified column shifted by the specified offset.\n",
        "\n",
        "        Parameters:\n",
        "        dataframe (pandas.DataFrame): The input dataframe.\n",
        "        column (str): The name of the column to shift.\n",
        "        offset (int): The number of rows to shift the values by.\n",
        "\n",
        "        Returns:\n",
        "        pandas.DataFrame: A dataframe with a new column 'lag' that contains the shifted values.\n",
        "        \"\"\"\n",
        "        dataframe['lag'] = dataframe[column].shift(offset)\n",
        "        return dataframe\n",
        "\n",
        "    def lead(self, dataframe, column, offset):\n",
        "        \"\"\"\n",
        "        Replicates the functionality of the LEAD() function.\n",
        "        Returns a new dataframe with a new column that contains the values from the specified column shifted forward by the specified offset.\n",
        "\n",
        "        Parameters:\n",
        "        dataframe (pandas.DataFrame): The input dataframe.\n",
        "        column (str): The name of the column to shift.\n",
        "        offset (int): The number of rows to shift the values by.\n",
        "\n",
        "        Returns:\n",
        "        pandas.DataFrame: A dataframe with a new column 'lead' that contains the shifted values.\n",
        "        \"\"\"\n",
        "        dataframe['lead'] = dataframe[column].shift(-offset)\n",
        "        return dataframe"
      ],
      "metadata": {
        "id": "JSX-c1ysKfRS"
      },
      "execution_count": null,
      "outputs": []
    },
    {
      "cell_type": "code",
      "source": [
        "# Create an instance of the WindowFunctions class\n",
        "wf = WindowFunctions()"
      ],
      "metadata": {
        "id": "Q_yAqiEBLFix"
      },
      "execution_count": null,
      "outputs": []
    },
    {
      "cell_type": "code",
      "source": [
        "# Replicate the functionality of the ROW_NUMBER() function\n",
        "df_row_number = wf.row_number(df)\n",
        "print(df_row_number)"
      ],
      "metadata": {
        "colab": {
          "base_uri": "https://localhost:8080/"
        },
        "id": "vfD2aWydLFXD",
        "outputId": "156fb487-8d43-4a6c-8ae3-8e50374210e7"
      },
      "execution_count": null,
      "outputs": [
        {
          "output_type": "stream",
          "name": "stdout",
          "text": [
            "    id store   sales  row_number\n",
            "0    1    S1  5770.2           1\n",
            "1    2    S4  1641.8           2\n",
            "2    3    S4  4314.0           3\n",
            "3    4    S4  4895.7           4\n",
            "4    5    S1  4094.4           5\n",
            "5    6    S3  2277.3           6\n",
            "6    7    S1  3854.2           7\n",
            "7    8    S4  6610.9           8\n",
            "8    9    S3  4531.7           9\n",
            "9   10    S4  4854.0          10\n",
            "10  11    S1  2033.2          11\n",
            "11  12    S3  4109.3          12\n",
            "12  13    S4  6878.5          13\n",
            "13  14    S2  3584.3          14\n",
            "14  15    S4  4967.3          15\n",
            "15  16    S3  4923.6          16\n",
            "16  17    S3  3738.8          17\n",
            "17  18    S1  4164.7          18\n",
            "18  19    S1  1701.1          19\n",
            "19  20    S4  3886.2          20\n",
            "20  21    S2  1899.8          21\n",
            "21  22    S1  6611.9          22\n",
            "22  23    S4  4147.2          23\n",
            "23  24    S2  4756.3          24\n",
            "24  25    S2  6406.4          25\n",
            "25  26    S4  4648.6          26\n",
            "26  27    S1  6650.4          27\n",
            "27  28    S4  5006.0          28\n",
            "28  29    S4  2178.8          29\n",
            "29  30    S3  4632.7          30\n",
            "30  31    S4  3947.8          31\n",
            "31  32    S2  3255.6          32\n",
            "32  33    S1  3538.5          33\n",
            "33  34    S4  1815.6          34\n",
            "34  35    S2  2284.8          35\n",
            "35  36    S3  4531.8          36\n",
            "36  37    S3  2541.6          37\n",
            "37  38    S1  6152.5          38\n",
            "38  39    S3  2564.0          39\n"
          ]
        }
      ]
    },
    {
      "cell_type": "code",
      "source": [
        "# Replicate the functionality of the RANK() function\n",
        "df_rank = wf.rank(df, 'sales')\n",
        "print(df_rank)"
      ],
      "metadata": {
        "colab": {
          "base_uri": "https://localhost:8080/"
        },
        "id": "3YIZIuuBLxJc",
        "outputId": "782b8dfd-82d8-472b-813c-9d98838e2f53"
      },
      "execution_count": null,
      "outputs": [
        {
          "output_type": "stream",
          "name": "stdout",
          "text": [
            "    id store   sales  row_number  rank\n",
            "0    1    S1  5770.2           1  33.0\n",
            "1    2    S4  1641.8           2   1.0\n",
            "2    3    S4  4314.0           3  22.0\n",
            "3    4    S4  4895.7           4  29.0\n",
            "4    5    S1  4094.4           5  18.0\n",
            "5    6    S3  2277.3           6   7.0\n",
            "6    7    S1  3854.2           7  15.0\n",
            "7    8    S4  6610.9           8  36.0\n",
            "8    9    S3  4531.7           9  23.0\n",
            "9   10    S4  4854.0          10  28.0\n",
            "10  11    S1  2033.2          11   5.0\n",
            "11  12    S3  4109.3          12  19.0\n",
            "12  13    S4  6878.5          13  39.0\n",
            "13  14    S2  3584.3          14  13.0\n",
            "14  15    S4  4967.3          15  31.0\n",
            "15  16    S3  4923.6          16  30.0\n",
            "16  17    S3  3738.8          17  14.0\n",
            "17  18    S1  4164.7          18  21.0\n",
            "18  19    S1  1701.1          19   2.0\n",
            "19  20    S4  3886.2          20  16.0\n",
            "20  21    S2  1899.8          21   4.0\n",
            "21  22    S1  6611.9          22  37.0\n",
            "22  23    S4  4147.2          23  20.0\n",
            "23  24    S2  4756.3          24  27.0\n",
            "24  25    S2  6406.4          25  35.0\n",
            "25  26    S4  4648.6          26  26.0\n",
            "26  27    S1  6650.4          27  38.0\n",
            "27  28    S4  5006.0          28  32.0\n",
            "28  29    S4  2178.8          29   6.0\n",
            "29  30    S3  4632.7          30  25.0\n",
            "30  31    S4  3947.8          31  17.0\n",
            "31  32    S2  3255.6          32  11.0\n",
            "32  33    S1  3538.5          33  12.0\n",
            "33  34    S4  1815.6          34   3.0\n",
            "34  35    S2  2284.8          35   8.0\n",
            "35  36    S3  4531.8          36  24.0\n",
            "36  37    S3  2541.6          37   9.0\n",
            "37  38    S1  6152.5          38  34.0\n",
            "38  39    S3  2564.0          39  10.0\n"
          ]
        }
      ]
    },
    {
      "cell_type": "code",
      "source": [
        "# Replicate the functionality of the DENSE_RANK() function\n",
        "df_dense_rank = wf.dense_rank(df, 'sales')\n",
        "print(df_dense_rank)"
      ],
      "metadata": {
        "colab": {
          "base_uri": "https://localhost:8080/"
        },
        "id": "k2FaptMNLxGR",
        "outputId": "e5402b2c-c9e2-4f27-bc8a-fc3d7133e45c"
      },
      "execution_count": null,
      "outputs": [
        {
          "output_type": "stream",
          "name": "stdout",
          "text": [
            "    id store   sales  row_number  rank  dense_rank\n",
            "0    1    S1  5770.2           1  33.0          33\n",
            "1    2    S4  1641.8           2   1.0           1\n",
            "2    3    S4  4314.0           3  22.0          22\n",
            "3    4    S4  4895.7           4  29.0          29\n",
            "4    5    S1  4094.4           5  18.0          18\n",
            "5    6    S3  2277.3           6   7.0           7\n",
            "6    7    S1  3854.2           7  15.0          15\n",
            "7    8    S4  6610.9           8  36.0          36\n",
            "8    9    S3  4531.7           9  23.0          23\n",
            "9   10    S4  4854.0          10  28.0          28\n",
            "10  11    S1  2033.2          11   5.0           5\n",
            "11  12    S3  4109.3          12  19.0          19\n",
            "12  13    S4  6878.5          13  39.0          39\n",
            "13  14    S2  3584.3          14  13.0          13\n",
            "14  15    S4  4967.3          15  31.0          31\n",
            "15  16    S3  4923.6          16  30.0          30\n",
            "16  17    S3  3738.8          17  14.0          14\n",
            "17  18    S1  4164.7          18  21.0          21\n",
            "18  19    S1  1701.1          19   2.0           2\n",
            "19  20    S4  3886.2          20  16.0          16\n",
            "20  21    S2  1899.8          21   4.0           4\n",
            "21  22    S1  6611.9          22  37.0          37\n",
            "22  23    S4  4147.2          23  20.0          20\n",
            "23  24    S2  4756.3          24  27.0          27\n",
            "24  25    S2  6406.4          25  35.0          35\n",
            "25  26    S4  4648.6          26  26.0          26\n",
            "26  27    S1  6650.4          27  38.0          38\n",
            "27  28    S4  5006.0          28  32.0          32\n",
            "28  29    S4  2178.8          29   6.0           6\n",
            "29  30    S3  4632.7          30  25.0          25\n",
            "30  31    S4  3947.8          31  17.0          17\n",
            "31  32    S2  3255.6          32  11.0          11\n",
            "32  33    S1  3538.5          33  12.0          12\n",
            "33  34    S4  1815.6          34   3.0           3\n",
            "34  35    S2  2284.8          35   8.0           8\n",
            "35  36    S3  4531.8          36  24.0          24\n",
            "36  37    S3  2541.6          37   9.0           9\n",
            "37  38    S1  6152.5          38  34.0          34\n",
            "38  39    S3  2564.0          39  10.0          10\n"
          ]
        }
      ]
    },
    {
      "cell_type": "code",
      "source": [
        "# Replicate the functionality of the LAG() function\n",
        "df_lag = wf.lag(df, 'sales', 3)\n",
        "print(df_lag)"
      ],
      "metadata": {
        "colab": {
          "base_uri": "https://localhost:8080/"
        },
        "id": "lxN3mPCZL2t6",
        "outputId": "995620a4-de8d-428c-ad7a-e662571d3f43"
      },
      "execution_count": null,
      "outputs": [
        {
          "output_type": "stream",
          "name": "stdout",
          "text": [
            "    id store   sales  row_number  rank  dense_rank     lag\n",
            "0    1    S1  5770.2           1  33.0          33     NaN\n",
            "1    2    S4  1641.8           2   1.0           1     NaN\n",
            "2    3    S4  4314.0           3  22.0          22     NaN\n",
            "3    4    S4  4895.7           4  29.0          29  5770.2\n",
            "4    5    S1  4094.4           5  18.0          18  1641.8\n",
            "5    6    S3  2277.3           6   7.0           7  4314.0\n",
            "6    7    S1  3854.2           7  15.0          15  4895.7\n",
            "7    8    S4  6610.9           8  36.0          36  4094.4\n",
            "8    9    S3  4531.7           9  23.0          23  2277.3\n",
            "9   10    S4  4854.0          10  28.0          28  3854.2\n",
            "10  11    S1  2033.2          11   5.0           5  6610.9\n",
            "11  12    S3  4109.3          12  19.0          19  4531.7\n",
            "12  13    S4  6878.5          13  39.0          39  4854.0\n",
            "13  14    S2  3584.3          14  13.0          13  2033.2\n",
            "14  15    S4  4967.3          15  31.0          31  4109.3\n",
            "15  16    S3  4923.6          16  30.0          30  6878.5\n",
            "16  17    S3  3738.8          17  14.0          14  3584.3\n",
            "17  18    S1  4164.7          18  21.0          21  4967.3\n",
            "18  19    S1  1701.1          19   2.0           2  4923.6\n",
            "19  20    S4  3886.2          20  16.0          16  3738.8\n",
            "20  21    S2  1899.8          21   4.0           4  4164.7\n",
            "21  22    S1  6611.9          22  37.0          37  1701.1\n",
            "22  23    S4  4147.2          23  20.0          20  3886.2\n",
            "23  24    S2  4756.3          24  27.0          27  1899.8\n",
            "24  25    S2  6406.4          25  35.0          35  6611.9\n",
            "25  26    S4  4648.6          26  26.0          26  4147.2\n",
            "26  27    S1  6650.4          27  38.0          38  4756.3\n",
            "27  28    S4  5006.0          28  32.0          32  6406.4\n",
            "28  29    S4  2178.8          29   6.0           6  4648.6\n",
            "29  30    S3  4632.7          30  25.0          25  6650.4\n",
            "30  31    S4  3947.8          31  17.0          17  5006.0\n",
            "31  32    S2  3255.6          32  11.0          11  2178.8\n",
            "32  33    S1  3538.5          33  12.0          12  4632.7\n",
            "33  34    S4  1815.6          34   3.0           3  3947.8\n",
            "34  35    S2  2284.8          35   8.0           8  3255.6\n",
            "35  36    S3  4531.8          36  24.0          24  3538.5\n",
            "36  37    S3  2541.6          37   9.0           9  1815.6\n",
            "37  38    S1  6152.5          38  34.0          34  2284.8\n",
            "38  39    S3  2564.0          39  10.0          10  4531.8\n"
          ]
        }
      ]
    },
    {
      "cell_type": "code",
      "source": [
        "# Replicate the functionality of the LEAD() function\n",
        "df_lead = wf.lead(df, 'sales', 3)\n",
        "print(df_lead)"
      ],
      "metadata": {
        "colab": {
          "base_uri": "https://localhost:8080/"
        },
        "id": "qkuWl-cbL2rM",
        "outputId": "98a35d80-8c08-4fd1-faf0-f298c557663c"
      },
      "execution_count": null,
      "outputs": [
        {
          "output_type": "stream",
          "name": "stdout",
          "text": [
            "    id store   sales  row_number  rank  dense_rank     lag    lead\n",
            "0    1    S1  5770.2           1  33.0          33     NaN  4895.7\n",
            "1    2    S4  1641.8           2   1.0           1     NaN  4094.4\n",
            "2    3    S4  4314.0           3  22.0          22     NaN  2277.3\n",
            "3    4    S4  4895.7           4  29.0          29  5770.2  3854.2\n",
            "4    5    S1  4094.4           5  18.0          18  1641.8  6610.9\n",
            "5    6    S3  2277.3           6   7.0           7  4314.0  4531.7\n",
            "6    7    S1  3854.2           7  15.0          15  4895.7  4854.0\n",
            "7    8    S4  6610.9           8  36.0          36  4094.4  2033.2\n",
            "8    9    S3  4531.7           9  23.0          23  2277.3  4109.3\n",
            "9   10    S4  4854.0          10  28.0          28  3854.2  6878.5\n",
            "10  11    S1  2033.2          11   5.0           5  6610.9  3584.3\n",
            "11  12    S3  4109.3          12  19.0          19  4531.7  4967.3\n",
            "12  13    S4  6878.5          13  39.0          39  4854.0  4923.6\n",
            "13  14    S2  3584.3          14  13.0          13  2033.2  3738.8\n",
            "14  15    S4  4967.3          15  31.0          31  4109.3  4164.7\n",
            "15  16    S3  4923.6          16  30.0          30  6878.5  1701.1\n",
            "16  17    S3  3738.8          17  14.0          14  3584.3  3886.2\n",
            "17  18    S1  4164.7          18  21.0          21  4967.3  1899.8\n",
            "18  19    S1  1701.1          19   2.0           2  4923.6  6611.9\n",
            "19  20    S4  3886.2          20  16.0          16  3738.8  4147.2\n",
            "20  21    S2  1899.8          21   4.0           4  4164.7  4756.3\n",
            "21  22    S1  6611.9          22  37.0          37  1701.1  6406.4\n",
            "22  23    S4  4147.2          23  20.0          20  3886.2  4648.6\n",
            "23  24    S2  4756.3          24  27.0          27  1899.8  6650.4\n",
            "24  25    S2  6406.4          25  35.0          35  6611.9  5006.0\n",
            "25  26    S4  4648.6          26  26.0          26  4147.2  2178.8\n",
            "26  27    S1  6650.4          27  38.0          38  4756.3  4632.7\n",
            "27  28    S4  5006.0          28  32.0          32  6406.4  3947.8\n",
            "28  29    S4  2178.8          29   6.0           6  4648.6  3255.6\n",
            "29  30    S3  4632.7          30  25.0          25  6650.4  3538.5\n",
            "30  31    S4  3947.8          31  17.0          17  5006.0  1815.6\n",
            "31  32    S2  3255.6          32  11.0          11  2178.8  2284.8\n",
            "32  33    S1  3538.5          33  12.0          12  4632.7  4531.8\n",
            "33  34    S4  1815.6          34   3.0           3  3947.8  2541.6\n",
            "34  35    S2  2284.8          35   8.0           8  3255.6  6152.5\n",
            "35  36    S3  4531.8          36  24.0          24  3538.5  2564.0\n",
            "36  37    S3  2541.6          37   9.0           9  1815.6     NaN\n",
            "37  38    S1  6152.5          38  34.0          34  2284.8     NaN\n",
            "38  39    S3  2564.0          39  10.0          10  4531.8     NaN\n"
          ]
        }
      ]
    },
    {
      "cell_type": "markdown",
      "source": [
        "# **2.\tSimulation of Inventory transaction**"
      ],
      "metadata": {
        "id": "yxU0I--VHOLN"
      }
    },
    {
      "cell_type": "code",
      "source": [
        "import random\n",
        "\n",
        "# Define the categories and their total sales\n",
        "categories = {\n",
        "    \"Furniture\": 58578.25,\n",
        "    \"Sports\": 39743.95,\n",
        "    \"Food\": 73104.65\n",
        "}\n",
        "\n",
        "# Define the sub-categories for each category\n",
        "sub_categories = {\n",
        "    \"Furniture\": [\"chairs\", \"tables\", \"wardrobe\", \"beds\", \"couch\", \"antique\", \"storage\"],\n",
        "    \"Sports\": [\"shoes\", \"bags\", \"backpack\", \"bottles\", \"towels\"],\n",
        "    \"Food\": [\"chips\", \"bread\", \"chocolate\", \"biscuits\", \"rice\", \"wheat\", \"sugar\", \"flour\"]\n",
        "}\n",
        "\n",
        "# For each category, assign random prices to the sub-categories such that their total equals the total sales value of the category\n",
        "for category, total_sales in categories.items():\n",
        "    sub_cat_prices = {}\n",
        "    for sub_category in sub_categories[category]:\n",
        "        # Generate a random price for the sub-category\n",
        "        price = round(random.uniform(1, total_sales), 2)\n",
        "        sub_cat_prices[sub_category] = price  \n",
        "        total_sales -= price\n",
        "    # Assign the remaining total sales value to one of the sub-categories\n",
        "    sub_cat_prices[random.choice(list(sub_cat_prices.keys()))] += total_sales\n",
        "    print(f\"Prices for {category}: {sub_cat_prices}\")"
      ],
      "metadata": {
        "colab": {
          "base_uri": "https://localhost:8080/"
        },
        "id": "FMez5OLDHL9Z",
        "outputId": "95bb383f-ff3d-42d7-da24-d172e0fd77c8"
      },
      "execution_count": 12,
      "outputs": [
        {
          "output_type": "stream",
          "name": "stdout",
          "text": [
            "Prices for Furniture: {'chairs': 13695.04, 'tables': 28813.39, 'wardrobe': 9298.369999999999, 'beds': 1520.84, 'couch': 1990.22, 'antique': 2813.7, 'storage': 446.69}\n",
            "Prices for Sports: {'shoes': 11383.37, 'bags': 16206.739999999994, 'backpack': 4973.3, 'bottles': 4020.26, 'towels': 3160.28}\n",
            "Prices for Food: {'chips': 17574.54, 'bread': 8768.71, 'chocolate': 25562.74, 'biscuits': 4598.68, 'rice': 11885.65, 'wheat': 2303.88, 'sugar': 1191.26, 'flour': 1219.1899999999926}\n"
          ]
        }
      ]
    },
    {
      "cell_type": "markdown",
      "source": [
        "# **Simulate transactions (sale of a sub-category product)**\n",
        "# **\tA new product is sold. Update the subcategory and category sales details accordingly**\n",
        "# **\tDisplay the updated prices**\n",
        "\n",
        "# **•\tTo print the total sales of a given product category**\n",
        "\n",
        "# **•\tTo print the total sales of a given product sub-category**\n"
      ],
      "metadata": {
        "id": "6-PMGfgTJBds"
      }
    },
    {
      "cell_type": "code",
      "source": [
        "def simulate_transaction(category, sub_category, quantity):\n",
        "    # Get the price of the sub-category\n",
        "    price = sub_cat_prices[sub_category]\n",
        "    # Calculate the total cost of the transaction\n",
        "    total_cost = price * quantity\n",
        "    # Update the total sales for the sub-category\n",
        "    categories[category] += total_cost\n",
        "    # Update the total sales for the category\n",
        "    sub_categories[category][sub_category] += total_cost\n",
        "\n",
        "# Test the function by simulating the sale of 2 chairs\n",
        "simulate_transaction(\"Furniture\", \"chairs\", 2)"
      ],
      "metadata": {
        "colab": {
          "base_uri": "https://localhost:8080/",
          "height": 321
        },
        "id": "7ucCIut7HLsz",
        "outputId": "60d6387a-0ed8-49ad-e72b-24c843251d3d"
      },
      "execution_count": 13,
      "outputs": [
        {
          "output_type": "error",
          "ename": "KeyError",
          "evalue": "ignored",
          "traceback": [
            "\u001b[0;31m---------------------------------------------------------------------------\u001b[0m",
            "\u001b[0;31mKeyError\u001b[0m                                  Traceback (most recent call last)",
            "\u001b[0;32m<ipython-input-13-ed9784e79761>\u001b[0m in \u001b[0;36m<module>\u001b[0;34m\u001b[0m\n\u001b[1;32m     10\u001b[0m \u001b[0;34m\u001b[0m\u001b[0m\n\u001b[1;32m     11\u001b[0m \u001b[0;31m# Test the function by simulating the sale of 2 chairs\u001b[0m\u001b[0;34m\u001b[0m\u001b[0;34m\u001b[0m\u001b[0;34m\u001b[0m\u001b[0m\n\u001b[0;32m---> 12\u001b[0;31m \u001b[0msimulate_transaction\u001b[0m\u001b[0;34m(\u001b[0m\u001b[0;34m\"Furniture\"\u001b[0m\u001b[0;34m,\u001b[0m \u001b[0;34m\"chairs\"\u001b[0m\u001b[0;34m,\u001b[0m \u001b[0;36m2\u001b[0m\u001b[0;34m)\u001b[0m\u001b[0;34m\u001b[0m\u001b[0;34m\u001b[0m\u001b[0m\n\u001b[0m",
            "\u001b[0;32m<ipython-input-13-ed9784e79761>\u001b[0m in \u001b[0;36msimulate_transaction\u001b[0;34m(category, sub_category, quantity)\u001b[0m\n\u001b[1;32m      1\u001b[0m \u001b[0;32mdef\u001b[0m \u001b[0msimulate_transaction\u001b[0m\u001b[0;34m(\u001b[0m\u001b[0mcategory\u001b[0m\u001b[0;34m,\u001b[0m \u001b[0msub_category\u001b[0m\u001b[0;34m,\u001b[0m \u001b[0mquantity\u001b[0m\u001b[0;34m)\u001b[0m\u001b[0;34m:\u001b[0m\u001b[0;34m\u001b[0m\u001b[0;34m\u001b[0m\u001b[0m\n\u001b[1;32m      2\u001b[0m     \u001b[0;31m# Get the price of the sub-category\u001b[0m\u001b[0;34m\u001b[0m\u001b[0;34m\u001b[0m\u001b[0;34m\u001b[0m\u001b[0m\n\u001b[0;32m----> 3\u001b[0;31m     \u001b[0mprice\u001b[0m \u001b[0;34m=\u001b[0m \u001b[0msub_cat_prices\u001b[0m\u001b[0;34m[\u001b[0m\u001b[0msub_category\u001b[0m\u001b[0;34m]\u001b[0m\u001b[0;34m\u001b[0m\u001b[0;34m\u001b[0m\u001b[0m\n\u001b[0m\u001b[1;32m      4\u001b[0m     \u001b[0;31m# Calculate the total cost of the transaction\u001b[0m\u001b[0;34m\u001b[0m\u001b[0;34m\u001b[0m\u001b[0;34m\u001b[0m\u001b[0m\n\u001b[1;32m      5\u001b[0m     \u001b[0mtotal_cost\u001b[0m \u001b[0;34m=\u001b[0m \u001b[0mprice\u001b[0m \u001b[0;34m*\u001b[0m \u001b[0mquantity\u001b[0m\u001b[0;34m\u001b[0m\u001b[0;34m\u001b[0m\u001b[0m\n",
            "\u001b[0;31mKeyError\u001b[0m: 'chairs'"
          ]
        }
      ]
    },
    {
      "cell_type": "code",
      "source": [
        "def get_total_sales(category_or_sub_category, is_category=True):\n",
        "    if is_category:\n",
        "        return categories[category_or_sub_category]\n",
        "    else:\n",
        "        return sub_categories[category_or_sub_category]\n",
        "\n",
        "# Test the function by printing the total sales for the Furniture category\n",
        "print(get_total_sales(\"Furniture\"))\n",
        "\n",
        "# Test the function by printing the total sales for the chairs sub-category\n",
        "print(get_total_sales(\"chairs\", is_category=False))"
      ],
      "metadata": {
        "id": "LJ8tqoEoJROp"
      },
      "execution_count": null,
      "outputs": []
    },
    {
      "cell_type": "code",
      "source": [],
      "metadata": {
        "id": "Ghfp5n33J2HZ"
      },
      "execution_count": null,
      "outputs": []
    },
    {
      "cell_type": "code",
      "source": [],
      "metadata": {
        "id": "sBwk68IMJ2Ef"
      },
      "execution_count": null,
      "outputs": []
    },
    {
      "cell_type": "code",
      "source": [],
      "metadata": {
        "id": "dHMxe5KiJ2Bp"
      },
      "execution_count": null,
      "outputs": []
    },
    {
      "cell_type": "code",
      "source": [
        "import random\n",
        "\n",
        "# Create sample product categories and their total sales\n",
        "categories = {\n",
        "    \"Furniture\": 58578.25,\n",
        "    \"Sports\": 39743.95,\n",
        "    \"Food\": 73104.65\n",
        "}\n",
        "\n",
        "# Create sub-categories for each category\n",
        "subcategories = {\n",
        "    \"Furniture\": [\"chairs\", \"tables\", \"wardrobe\", \"beds\", \"couch\", \"antique\", \"storage\"],\n",
        "    \"Sports\": [\"shoes\", \"bags\", \"backpack\", \"bottles\", \"towels\"],\n",
        "    \"Food\": [\"chips\", \"bread\", \"chocolate\", \"biscuits\", \"rice\", \"wheat\", \"sugar\", \"flour\"]\n",
        "}\n",
        "\n",
        "# Assign random prices to each sub-category such that their total equals the total sales of their corresponding category\n",
        "prices = {}\n",
        "for category, total_sales in categories.items():\n",
        "    subcat_prices = []\n",
        "    for subcategory in subcategories[category]:\n",
        "        price = random.uniform(1, total_sales)\n",
        "        subcat_prices.append(price)\n",
        "        total_sales -= price\n",
        "    prices[category] = subcat_prices\n",
        "\n",
        "# Simulate a transaction: sale of a sub-category product\n",
        "def simulate_transaction(category, subcategory):\n",
        "    # Update the subcategory and category sales details\n",
        "    subcat_index = subcategories[category].index(subcategory)\n",
        "    categories[category] -= prices[category][subcat_index]\n",
        "    prices[category][subcat_index] = 0\n",
        "\n",
        "    # Display the updated prices\n",
        "    print(f\"Updated sales for category {category}: {categories[category]:.2f}\")\n",
        "    print(f\"Updated prices for sub-category {subcategory}: {prices[category][subcat_index]:.2f}\")\n",
        "\n",
        "simulate_transaction(\"Furniture\", \"chairs\")"
      ],
      "metadata": {
        "colab": {
          "base_uri": "https://localhost:8080/"
        },
        "id": "ynKFXbqWJ10o",
        "outputId": "3c33f9de-f32f-464f-c9dd-edbb6f48e9d0"
      },
      "execution_count": 14,
      "outputs": [
        {
          "output_type": "stream",
          "name": "stdout",
          "text": [
            "Updated sales for category Furniture: 34200.84\n",
            "Updated prices for sub-category chairs: 0.00\n"
          ]
        }
      ]
    }
  ]
}